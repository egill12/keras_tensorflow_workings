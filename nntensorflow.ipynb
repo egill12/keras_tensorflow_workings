{
 "cells": [
  {
   "cell_type": "code",
   "execution_count": 1,
   "metadata": {
    "collapsed": true
   },
   "outputs": [
    {
     "name": "stderr",
     "output_type": "stream",
     "text": [
      "Using TensorFlow backend.\n"
     ]
    }
   ],
   "source": [
    "# This file is a simple implementation of the \n",
    "from keras.models import Sequential\n",
    "from keras.layers import LSTM\n",
    "import pandas as pd\n",
    "import numpy as np\n",
    "from sklearn.model_selection import train_test_split\n",
    "model = Sequential()\n",
    "eurusd = pd.read_csv(r\"C:\\Users\\edgil\\Documents\\Masters\\dissertation\\code64\\data_set\\eurusd_train_normed.csv\")\n",
    "eurusd = eurusd.replace(np.nan, 0)"
   ]
  },
  {
   "cell_type": "code",
   "execution_count": 41,
   "metadata": {},
   "outputs": [],
   "source": [
    "from keras.models import Model # Dense\n",
    "model.add(Dense(units=2, activation='relu', input_dim=2))\n",
    "model.add(Dense(units=1, activation='softmax'))\n",
    "model.compile(loss='categorical_crossentropy',\n",
    "              optimizer='sgd',\n",
    "              metrics=['accuracy'])\n",
    "x_train = np.array([[1,1],[1,0],[0,1],[0,0]])\n",
    "y_train = np.array([0,1,0,0])\n",
    "# x_train and y_train are Numpy arrays --just like in the Scikit-Learn API.\n",
    "model.fit(x_train, y_train, epochs=5, batch_size=32)"
   ]
  },
  {
   "cell_type": "code",
   "execution_count": 2,
   "metadata": {},
   "outputs": [],
   "source": [
    "# set up the training data for the model\n",
    "# we must normalise the inputs so they can pick up the correct values\n",
    "data = [[[(i+j)/100]for i in range(0,5)] for j in range(0,100)]\n",
    "target = [[(i+5)/100] for i in range(0,100)]\n",
    "npData = np.array(data, dtype = float)\n",
    "npTarget = np.array(target, dtype = float)\n",
    "npData.shape\n",
    "x_train, x_test, y_train, y_test = train_test_split(npData,npTarget,test_size = 0.2, random_state = 4)\n",
    "# data stored as data[row_obversation][first_col_data][value_of_col]"
   ]
  },
  {
   "cell_type": "code",
   "execution_count": 61,
   "metadata": {},
   "outputs": [],
   "source": [
    "# TODO Friday-> Tomorrow\n",
    "# Get LSTM model working with your train,test data first\n",
    "# get it learning and giving output. Then look to refine the model. think about the target, how will we create probability distributions? \n",
    "# get the EURUSD data\n",
    "#npData.shape\n",
    "# Data needs to be reshaped into 3D tensor\n",
    "sample_data = eurusd.iloc[:100,:].values\n",
    "target = np.array([[i] for i in range(0,96)])\n",
    "sample_data.shape\n",
    "target.shape\n",
    "# reshape sems to add another list around every observation\n",
    "sample_data = sample_data.reshape(sample_data.shape[0], 1, sample_data.shape[1])\n",
    "# this creates your dataset with the lookback periods it needs to use.\n",
    "\n",
    "import numpy as np\n",
    "def create_dataset(dataset, look_back=1):\n",
    "  dataX, dataY = [], []\n",
    "  for i in range(len(dataset)-look_back+1):\n",
    "    a = dataset[i:(i+look_back), :]\n",
    "    dataX.append(a)\n",
    "    dataY.append(dataset[i + look_back - 1, :])\n",
    "  return np.array(dataX), np.array(dataY)\n",
    "\n",
    "sample_data = create_dataset(sample_data,5)[0]\n",
    "\n"
   ]
  },
  {
   "cell_type": "code",
   "execution_count": 62,
   "metadata": {},
   "outputs": [
    {
     "data": {
      "text/plain": [
       "array([[-6.45781570e-01,  0.00000000e+00, -6.45683787e-01,\n        -6.45484613e-01, -6.44697771e-01, -6.43812163e-01,\n        -2.19187968e-02, -3.70896043e-02, -6.95595882e-02,\n        -9.29097071e-02, -6.43416237e-01, -6.38447391e-01,\n        -6.12951492e-01, -5.79183418e-01, -1.01655702e-01,\n        -1.77461191e-01, -3.49814022e-01, -4.70413261e-01,\n        -6.32852631e-01, -5.98253516e-01, -4.48348777e-01,\n        -3.17243415e-01, -2.31456480e-01, -4.09247164e-01,\n        -7.43890794e-01, -9.13950762e-01, -7.54163264e-02,\n        -3.75057763e-01, -7.45249847e-01, -9.53787446e-02,\n        -4.85096588e-01, -9.54745026e-01,  0.00000000e+00,\n         0.00000000e+00,  1.00000000e+00],\n       [-6.45781570e-01, -5.86630195e-03, -6.45683787e-01,\n        -6.45484613e-01, -6.44697771e-01, -6.43812163e-01,\n        -2.19187968e-02, -3.70896043e-02, -6.95595882e-02,\n        -9.29097071e-02, -6.43416237e-01, -6.38447391e-01,\n        -6.12951492e-01, -5.79183418e-01, -1.01655702e-01,\n        -1.77461191e-01, -3.49814022e-01, -4.70413261e-01,\n        -6.32852631e-01, -5.98253516e-01, -4.48348777e-01,\n        -3.17243415e-01, -2.31456480e-01, -4.09247164e-01,\n        -7.43890794e-01, -9.13950762e-01, -7.54163264e-02,\n        -3.75057763e-01, -7.45249847e-01, -9.53787446e-02,\n        -4.85096588e-01, -9.54745026e-01,  0.00000000e+00,\n         0.00000000e+00,  1.00000000e+00],\n       [-6.19392189e-01,  3.68122969e+00, -6.35241509e-01,\n        -6.36107951e-01, -6.35719484e-01, -6.34887514e-01,\n         1.35575138e+00,  7.89166419e-01,  3.75427674e-01,\n         2.39535294e-01, -6.34498175e-01, -6.29477587e-01,\n        -6.03658757e-01, -5.69580043e-01,  2.02028162e-01,\n        -3.62363674e-03, -2.55350831e-01, -3.98490090e-01,\n        -6.23796517e-01, -5.88819120e-01, -4.37522099e-01,\n        -3.04727340e-01, -9.60616472e-02, -3.27146423e-01,\n        -6.97395392e-01, -8.75922412e-01,  5.17664165e-01,\n        -2.45855400e-01, -6.81466263e-01, -6.33913858e-02,\n        -4.84788074e-01, -9.54711188e-01,  0.00000000e+00,\n         0.00000000e+00,  1.00000000e+00],\n       [-6.19392189e-01, -5.86630195e-03, -6.30105963e-01,\n        -6.31429368e-01, -6.31231070e-01, -6.30425411e-01,\n         9.12268878e-01,  5.62196755e-01,  2.61156294e-01,\n         1.55179484e-01, -6.30039297e-01, -6.24992702e-01,\n        -5.99012391e-01, -5.64778356e-01,  1.25159518e-01,\n        -4.72640218e-02, -2.78993462e-01, -4.16482120e-01,\n        -6.19268467e-01, -5.84101922e-01, -4.32108760e-01,\n        -2.98469303e-01, -1.29994954e-01, -3.47688711e-01,\n        -7.09021885e-01, -8.85430688e-01,  3.54099389e-01,\n        -2.78304399e-01, -6.97426843e-01, -4.91527461e-02,\n        -4.84634493e-01, -9.54694284e-01,  0.00000000e+00,\n         0.00000000e+00,  1.00000000e+00],\n       [-6.23648541e-01, -5.99418067e-01, -6.28277866e-01,\n        -6.29595225e-01, -6.29423077e-01, -6.28620580e-01,\n         3.86754700e-01,  2.66582304e-01,  1.06486395e-01,\n         4.02262059e-02, -6.28234284e-01, -6.23172238e-01,\n        -5.97124550e-01, -5.62827090e-01,  2.02636019e-02,\n        -1.07094054e-01, -3.11462231e-01, -4.41197950e-01,\n        -6.17429498e-01, -5.82185117e-01, -4.29908658e-01,\n        -2.95925814e-01, -1.76560339e-01, -3.75904547e-01,\n        -7.24996890e-01, -8.98495980e-01,  1.41997346e-01,\n        -3.22780374e-01, -7.19348395e-01, -4.85149386e-02,\n        -4.84602772e-01, -9.54690707e-01,  0.00000000e+00,\n         0.00000000e+00,  1.00000000e+00]])"
      ]
     },
     "execution_count": 62,
     "metadata": {},
     "output_type": "execute_result"
    }
   ],
   "source": [
    "sample_data = sample_data.reshape(sample_data.shape[0], sample_data.shape[1], sample_data.shape[3])\n",
    "sample_data[0]"
   ]
  },
  {
   "cell_type": "code",
   "execution_count": 63,
   "metadata": {},
   "outputs": [
    {
     "name": "stdout",
     "output_type": "stream",
     "text": [
      "_________________________________________________________________\nLayer (type)                 Output Shape              Param #   \n=================================================================\nlstm_9 (LSTM)                (None, 5, 1)              148       \n_________________________________________________________________\nlstm_10 (LSTM)               (None, 1)                 12        \n=================================================================\nTotal params: 160\nTrainable params: 160\nNon-trainable params: 0\n_________________________________________________________________\n"
     ]
    }
   ],
   "source": [
    "# this code sets up the LSTM model.\n",
    "'''\n",
    "Original\n",
    "model = Sequential()\n",
    "model.add(LSTM((1),batch_input_shape = (None,5,1), return_sequences = True))\n",
    "model.add(LSTM((1), return_sequences = False))\n",
    "model.compile(loss = \"mean_absolute_error\", optimizer=\"adam\", metrics = ['accuracy'])\n",
    "model.summary()\n",
    "'''\n",
    "# need to try understand the input shapes and what is required of it.\n",
    "# look at tutorials where they use this data\n",
    "# Friday:GOAL have the LSTM working with your input (and variable data set)\n",
    "# BONUS GOAL: simulate trendy and mean reverty data.\n",
    "# batch_input_shape (no_obversations,timelookback, features)\n",
    "model = Sequential()\n",
    "model.add(LSTM(1,batch_input_shape = (None,5,35), return_sequences = True))\n",
    "model.add(LSTM(1, return_sequences = False))\n",
    "model.compile(loss = \"mean_absolute_error\", optimizer=\"adam\", metrics = ['accuracy'])\n",
    "model.summary()"
   ]
  },
  {
   "cell_type": "code",
   "execution_count": 64,
   "metadata": {
    "collapsed": true
   },
   "outputs": [
    {
     "name": "stdout",
     "output_type": "stream",
     "text": [
      "Train on 96 samples, validate on 96 samples\nEpoch 1/5\n"
     ]
    },
    {
     "name": "stdout",
     "output_type": "stream",
     "text": [
      "\r32/96 [=========>....................] - ETA: 2s - loss: 48.7737 - acc: 0.0000e+00"
     ]
    },
    {
     "name": "stdout",
     "output_type": "stream",
     "text": [
      "\b\b\b\b\b\b\b\b\b\b\b\b\b\b\b\b\b\b\b\b\b\b\b\b\b\b\b\b\b\b\b\b\b\b\b\b\b\b\b\b\b\b\b\b\b\b\b\b\b\b\b\b\b\b\b\b\b\b\b\b\b\b\b\b\b\b\b\b\b\b\b\b\b\b\b\b\b\b\b\b\b\b\r96/96 [==============================] - 2s 17ms/step - loss: 47.5222 - acc: 0.0104 - val_loss: 47.5143 - val_acc: 0.0104\n"
     ]
    },
    {
     "name": "stdout",
     "output_type": "stream",
     "text": [
      "Epoch 2/5\n\r"
     ]
    },
    {
     "name": "stdout",
     "output_type": "stream",
     "text": [
      "32/96 [=========>....................] - ETA: 0s - loss: 51.7016 - acc: 0.0312"
     ]
    },
    {
     "name": "stdout",
     "output_type": "stream",
     "text": [
      "\b\b\b\b\b\b\b\b\b\b\b\b\b\b\b\b\b\b\b\b\b\b\b\b\b\b\b\b\b\b\b\b\b\b\b\b\b\b\b\b\b\b\b\b\b\b\b\b\b\b\b\b\b\b\b\b\b\b\b\b\b\b\b\b\b\b\b\b\b\b\b\b\b\b\b\b\b\b\r96/96 [==============================] - 0s 334us/step - loss: 47.5105 - acc: 0.0104 - val_loss: 47.5034 - val_acc: 0.0104\n"
     ]
    },
    {
     "name": "stdout",
     "output_type": "stream",
     "text": [
      "Epoch 3/5\n\r32/96 [=========>....................] - ETA: 0s - loss: 47.2239 - acc: 0.0312"
     ]
    },
    {
     "name": "stdout",
     "output_type": "stream",
     "text": [
      "\b\b\b\b\b\b\b\b\b\b\b\b\b\b\b\b\b\b\b\b\b\b\b\b\b\b\b\b\b\b\b\b\b\b\b\b\b\b\b\b\b\b\b\b\b\b\b\b\b\b\b\b\b\b\b\b\b\b\b\b\b\b\b\b\b\b\b\b\b\b\b\b\b\b\b\b\b\b\r96/96 [==============================] - 0s 300us/step - loss: 47.4999 - acc: 0.0104 - val_loss: 47.4932 - val_acc: 0.0104\n"
     ]
    },
    {
     "name": "stdout",
     "output_type": "stream",
     "text": [
      "Epoch 4/5\n\r32/96 [=========>....................] - ETA: 0s - loss: 51.7534 - acc: 0.0000e+00"
     ]
    },
    {
     "name": "stdout",
     "output_type": "stream",
     "text": [
      "\b\b\b\b\b\b\b\b\b\b\b\b\b\b\b\b\b\b\b\b\b\b\b\b\b\b\b\b\b\b\b\b\b\b\b\b\b\b\b\b\b\b\b\b\b\b\b\b\b\b\b\b\b\b\b\b\b\b\b\b\b\b\b\b\b\b\b\b\b\b\b\b\b\b\b\b\b\b\b\b\b\b\r96/96 [==============================] - 0s 353us/step - loss: 47.4902 - acc: 0.0104 - val_loss: 47.4836 - val_acc: 0.0104\n"
     ]
    },
    {
     "name": "stdout",
     "output_type": "stream",
     "text": [
      "Epoch 5/5\n\r32/96 [=========>....................] - ETA: 0s - loss: 38.4378 - acc: 0.0000e+00"
     ]
    },
    {
     "name": "stdout",
     "output_type": "stream",
     "text": [
      "\b\b\b\b\b\b\b\b\b\b\b\b\b\b\b\b\b\b\b\b\b\b\b\b\b\b\b\b\b\b\b\b\b\b\b\b\b\b\b\b\b\b\b\b\b\b\b\b\b\b\b\b\b\b\b\b\b\b\b\b\b\b\b\b\b\b\b\b\b\b\b\b\b\b\b\b\b\b\b\b\b\b\r96/96 [==============================] - 0s 315us/step - loss: 47.4806 - acc: 0.0104 - val_loss: 47.4742 - val_acc: 0.0104\n"
     ]
    }
   ],
   "source": [
    "# model training\n",
    "'''\n",
    "history = model.fit(x_train,y_train, epochs=100,validation_data=(x_test,y_test))\n",
    "results = model.predict(x_test)\n",
    "'''\n",
    "\n",
    "history = model.fit(sample_data,target, epochs=5,validation_data=(sample_data,target))\n",
    "results = model.predict(sample_data)"
   ]
  },
  {
   "cell_type": "code",
   "execution_count": 34,
   "metadata": {},
   "outputs": [
    {
     "ename": "ValueError",
     "evalue": "x and y must be the same size",
     "traceback": [
      "\u001b[0;31m---------------------------------------------------------------------------\u001b[0m",
      "\u001b[0;31mValueError\u001b[0m                                Traceback (most recent call last)",
      "\u001b[0;32m<ipython-input-34-e6eb1ea2b0b0>\u001b[0m in \u001b[0;36m<module>\u001b[0;34m()\u001b[0m\n\u001b[1;32m      1\u001b[0m \u001b[0;31m# plot results\u001b[0m\u001b[0;34m\u001b[0m\u001b[0;34m\u001b[0m\u001b[0;34m\u001b[0m\u001b[0m\n\u001b[1;32m      2\u001b[0m \u001b[0;32mimport\u001b[0m \u001b[0mmatplotlib\u001b[0m\u001b[0;34m.\u001b[0m\u001b[0mpyplot\u001b[0m \u001b[0;32mas\u001b[0m \u001b[0mplt\u001b[0m\u001b[0;34m\u001b[0m\u001b[0;34m\u001b[0m\u001b[0m\n\u001b[0;32m----> 3\u001b[0;31m \u001b[0mplt\u001b[0m\u001b[0;34m.\u001b[0m\u001b[0mscatter\u001b[0m\u001b[0;34m(\u001b[0m\u001b[0mrange\u001b[0m\u001b[0;34m(\u001b[0m\u001b[0;36m20\u001b[0m\u001b[0;34m)\u001b[0m\u001b[0;34m,\u001b[0m \u001b[0mresults\u001b[0m\u001b[0;34m,\u001b[0m \u001b[0mc\u001b[0m \u001b[0;34m=\u001b[0m \u001b[0;34m\"r\"\u001b[0m\u001b[0;34m)\u001b[0m\u001b[0;34m\u001b[0m\u001b[0;34m\u001b[0m\u001b[0m\n\u001b[0m\u001b[1;32m      4\u001b[0m \u001b[0mplt\u001b[0m\u001b[0;34m.\u001b[0m\u001b[0mscatter\u001b[0m\u001b[0;34m(\u001b[0m\u001b[0mrange\u001b[0m\u001b[0;34m(\u001b[0m\u001b[0;36m20\u001b[0m\u001b[0;34m)\u001b[0m\u001b[0;34m,\u001b[0m \u001b[0my_test\u001b[0m\u001b[0;34m,\u001b[0m \u001b[0mc\u001b[0m \u001b[0;34m=\u001b[0m \u001b[0;34m\"g\"\u001b[0m\u001b[0;34m)\u001b[0m\u001b[0;34m\u001b[0m\u001b[0;34m\u001b[0m\u001b[0m\n\u001b[1;32m      5\u001b[0m \u001b[0mplt\u001b[0m\u001b[0;34m.\u001b[0m\u001b[0mshow\u001b[0m\u001b[0;34m(\u001b[0m\u001b[0;34m)\u001b[0m\u001b[0;34m\u001b[0m\u001b[0;34m\u001b[0m\u001b[0m\n",
      "\u001b[0;32mC:\\Users\\edgil\\AppData\\Local\\Programs\\Python\\Python36-64\\lib\\site-packages\\matplotlib\\pyplot.py\u001b[0m in \u001b[0;36mscatter\u001b[0;34m(x, y, s, c, marker, cmap, norm, vmin, vmax, alpha, linewidths, verts, edgecolors, plotnonfinite, data, **kwargs)\u001b[0m\n\u001b[1;32m   2845\u001b[0m         \u001b[0mverts\u001b[0m\u001b[0;34m=\u001b[0m\u001b[0mverts\u001b[0m\u001b[0;34m,\u001b[0m \u001b[0medgecolors\u001b[0m\u001b[0;34m=\u001b[0m\u001b[0medgecolors\u001b[0m\u001b[0;34m,\u001b[0m\u001b[0;34m\u001b[0m\u001b[0;34m\u001b[0m\u001b[0m\n\u001b[1;32m   2846\u001b[0m         plotnonfinite=plotnonfinite, **({\"data\": data} if data is not\n\u001b[0;32m-> 2847\u001b[0;31m         None else {}), **kwargs)\n\u001b[0m\u001b[1;32m   2848\u001b[0m     \u001b[0msci\u001b[0m\u001b[0;34m(\u001b[0m\u001b[0m__ret\u001b[0m\u001b[0;34m)\u001b[0m\u001b[0;34m\u001b[0m\u001b[0;34m\u001b[0m\u001b[0m\n\u001b[1;32m   2849\u001b[0m     \u001b[0;32mreturn\u001b[0m \u001b[0m__ret\u001b[0m\u001b[0;34m\u001b[0m\u001b[0;34m\u001b[0m\u001b[0m\n",
      "\u001b[0;32mC:\\Users\\edgil\\AppData\\Local\\Programs\\Python\\Python36-64\\lib\\site-packages\\matplotlib\\__init__.py\u001b[0m in \u001b[0;36minner\u001b[0;34m(ax, data, *args, **kwargs)\u001b[0m\n\u001b[1;32m   1599\u001b[0m     \u001b[0;32mdef\u001b[0m \u001b[0minner\u001b[0m\u001b[0;34m(\u001b[0m\u001b[0max\u001b[0m\u001b[0;34m,\u001b[0m \u001b[0;34m*\u001b[0m\u001b[0margs\u001b[0m\u001b[0;34m,\u001b[0m \u001b[0mdata\u001b[0m\u001b[0;34m=\u001b[0m\u001b[0;32mNone\u001b[0m\u001b[0;34m,\u001b[0m \u001b[0;34m**\u001b[0m\u001b[0mkwargs\u001b[0m\u001b[0;34m)\u001b[0m\u001b[0;34m:\u001b[0m\u001b[0;34m\u001b[0m\u001b[0;34m\u001b[0m\u001b[0m\n\u001b[1;32m   1600\u001b[0m         \u001b[0;32mif\u001b[0m \u001b[0mdata\u001b[0m \u001b[0;32mis\u001b[0m \u001b[0;32mNone\u001b[0m\u001b[0;34m:\u001b[0m\u001b[0;34m\u001b[0m\u001b[0;34m\u001b[0m\u001b[0m\n\u001b[0;32m-> 1601\u001b[0;31m             \u001b[0;32mreturn\u001b[0m \u001b[0mfunc\u001b[0m\u001b[0;34m(\u001b[0m\u001b[0max\u001b[0m\u001b[0;34m,\u001b[0m \u001b[0;34m*\u001b[0m\u001b[0mmap\u001b[0m\u001b[0;34m(\u001b[0m\u001b[0msanitize_sequence\u001b[0m\u001b[0;34m,\u001b[0m \u001b[0margs\u001b[0m\u001b[0;34m)\u001b[0m\u001b[0;34m,\u001b[0m \u001b[0;34m**\u001b[0m\u001b[0mkwargs\u001b[0m\u001b[0;34m)\u001b[0m\u001b[0;34m\u001b[0m\u001b[0;34m\u001b[0m\u001b[0m\n\u001b[0m\u001b[1;32m   1602\u001b[0m \u001b[0;34m\u001b[0m\u001b[0m\n\u001b[1;32m   1603\u001b[0m         \u001b[0mbound\u001b[0m \u001b[0;34m=\u001b[0m \u001b[0mnew_sig\u001b[0m\u001b[0;34m.\u001b[0m\u001b[0mbind\u001b[0m\u001b[0;34m(\u001b[0m\u001b[0max\u001b[0m\u001b[0;34m,\u001b[0m \u001b[0;34m*\u001b[0m\u001b[0margs\u001b[0m\u001b[0;34m,\u001b[0m \u001b[0;34m**\u001b[0m\u001b[0mkwargs\u001b[0m\u001b[0;34m)\u001b[0m\u001b[0;34m\u001b[0m\u001b[0;34m\u001b[0m\u001b[0m\n",
      "\u001b[0;32mC:\\Users\\edgil\\AppData\\Local\\Programs\\Python\\Python36-64\\lib\\site-packages\\matplotlib\\axes\\_axes.py\u001b[0m in \u001b[0;36mscatter\u001b[0;34m(self, x, y, s, c, marker, cmap, norm, vmin, vmax, alpha, linewidths, verts, edgecolors, plotnonfinite, **kwargs)\u001b[0m\n\u001b[1;32m   4442\u001b[0m         \u001b[0my\u001b[0m \u001b[0;34m=\u001b[0m \u001b[0mnp\u001b[0m\u001b[0;34m.\u001b[0m\u001b[0mma\u001b[0m\u001b[0;34m.\u001b[0m\u001b[0mravel\u001b[0m\u001b[0;34m(\u001b[0m\u001b[0my\u001b[0m\u001b[0;34m)\u001b[0m\u001b[0;34m\u001b[0m\u001b[0;34m\u001b[0m\u001b[0m\n\u001b[1;32m   4443\u001b[0m         \u001b[0;32mif\u001b[0m \u001b[0mx\u001b[0m\u001b[0;34m.\u001b[0m\u001b[0msize\u001b[0m \u001b[0;34m!=\u001b[0m \u001b[0my\u001b[0m\u001b[0;34m.\u001b[0m\u001b[0msize\u001b[0m\u001b[0;34m:\u001b[0m\u001b[0;34m\u001b[0m\u001b[0;34m\u001b[0m\u001b[0m\n\u001b[0;32m-> 4444\u001b[0;31m             \u001b[0;32mraise\u001b[0m \u001b[0mValueError\u001b[0m\u001b[0;34m(\u001b[0m\u001b[0;34m\"x and y must be the same size\"\u001b[0m\u001b[0;34m)\u001b[0m\u001b[0;34m\u001b[0m\u001b[0;34m\u001b[0m\u001b[0m\n\u001b[0m\u001b[1;32m   4445\u001b[0m \u001b[0;34m\u001b[0m\u001b[0m\n\u001b[1;32m   4446\u001b[0m         \u001b[0;32mif\u001b[0m \u001b[0ms\u001b[0m \u001b[0;32mis\u001b[0m \u001b[0;32mNone\u001b[0m\u001b[0;34m:\u001b[0m\u001b[0;34m\u001b[0m\u001b[0;34m\u001b[0m\u001b[0m\n",
      "\u001b[0;31mValueError\u001b[0m: x and y must be the same size"
     ],
     "output_type": "error"
    }
   ],
   "source": [
    "# plot results\n",
    "import matplotlib.pyplot as plt\n",
    "plt.scatter(range(20), results, c = \"r\")\n",
    "plt.scatter(range(20), y_test, c = \"g\")\n",
    "plt.show()"
   ]
  },
  {
   "cell_type": "code",
   "execution_count": 65,
   "metadata": {},
   "outputs": [
    {
     "data": {
      "image/png": "[encoded data removed]",
      "text/plain": [
       "<Figure size 432x288 with 1 Axes>"
      ]
     },
     "metadata": {},
     "output_type": "display_data"
    }
   ],
   "source": [
    "# lets see the history of the error update.\n",
    "plt.plot(history.history['loss'])\n",
    "plt.show()\n"
   ]
  }
 ],
 "metadata": {
  "kernelspec": {
   "display_name": "Python 2",
   "language": "python",
   "name": "python2"
  },
  "language_info": {
   "codemirror_mode": {
    "name": "ipython",
    "version": 2
   },
   "file_extension": ".py",
   "mimetype": "text/x-python",
   "name": "python",
   "nbconvert_exporter": "python",
   "pygments_lexer": "ipython2",
   "version": "2.7.6"
  }
 },
 "nbformat": 4,
 "nbformat_minor": 0
}
