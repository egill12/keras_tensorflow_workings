{
 "cells": [
  {
   "cell_type": "code",
   "execution_count": 167,
   "metadata": {
    "collapsed": true
   },
   "outputs": [],
   "source": [
    "# This file is a simple implementation of the \n",
    "from keras.models import Sequential\n",
    "from keras.layers import LSTM\n",
    "import pandas as pd\n",
    "import numpy as np\n",
    "from sklearn.model_selection import train_test_split\n",
    "model = Sequential()\n",
    "eurusd_train = pd.read_csv(r\"C:\\Users\\edgil\\Documents\\Masters\\dissertation\\code64\\data_set\\eurusd_train_normed.csv\")\n",
    "eurusd_test = pd.read_csv(r\"C:\\Users\\edgil\\Documents\\Masters\\dissertation\\code64\\data_set\\eurusd_test_normed.csv\")\n",
    "eurusd_train = eurusd_train.replace(np.nan, 0)\n",
    "eurusd_test = eurusd_test.replace(np.nan, 0)"
   ]
  },
  {
   "cell_type": "code",
   "execution_count": 41,
   "metadata": {},
   "outputs": [],
   "source": [
    "from keras.models import Model # Dense\n",
    "model.add(Dense(units=2, activation='relu', input_dim=2))\n",
    "model.add(Dense(units=1, activation='softmax'))\n",
    "model.compile(loss='categorical_crossentropy',\n",
    "              optimizer='sgd',\n",
    "              metrics=['accuracy'])\n",
    "x_train = np.array([[1,1],[1,0],[0,1],[0,0]])\n",
    "y_train = np.array([0,1,0,0])\n",
    "# x_train and y_train are Numpy arrays --just like in the Scikit-Learn API.\n",
    "model.fit(x_train, y_train, epochs=5, batch_size=32)"
   ]
  },
  {
   "cell_type": "code",
   "execution_count": 2,
   "metadata": {},
   "outputs": [],
   "source": [
    "# set up the training data for the model\n",
    "# we must normalise the inputs so they can pick up the correct values\n",
    "data = [[[(i+j)/100]for i in range(0,5)] for j in range(0,200)]\n",
    "target = [[(i+5)/100] for i in range(0,100)]\n",
    "npData = np.array(data, dtype = float)\n",
    "npTarget = np.array(target, dtype = float)\n",
    "npData.shape\n",
    "x_train, x_test, y_train, y_test = train_test_split(npData,npTarget,test_size = 0.2, random_state = 4)\n",
    "# data stored as data[row_obversation][first_col_data][value_of_col]"
   ]
  },
  {
   "cell_type": "code",
   "execution_count": 183,
   "metadata": {},
   "outputs": [],
   "source": [
    "# TODO Friday-> Tomorrow\n",
    "# Get LSTM model working with your train,test data first\n",
    "# get it learning and giving output. Then look to refine the model. think about the target, how will we create probability distributions? \n",
    "# get the EURUSD data\n",
    "#npData.shape\n",
    "# Data needs to be reshaped into 3D tensor\n",
    "train_sample = eurusd_train.iloc[:500,:].values\n",
    "test_sample = eurusd_test.iloc[:500,:].values\n",
    "#sample_data['target'] = 1\n",
    "#target.shape\n",
    "# this creates your dataset with the lookback periods it needs to use.\n",
    "\n",
    "import numpy as np\n",
    "# this lookbacks over a set period as the memory for the LSTM\n",
    "look_back = 30\n",
    "def create_dataset(dataset, look_back=look_back):\n",
    "  dataX, dataY = [], []\n",
    "  for i in range(len(dataset)-look_back+1):\n",
    "      # this takes the very last col as the target\n",
    "    a = dataset[i:(i+look_back), :-1]\n",
    "    dataX.append(a)\n",
    "    # this code assumes that the target vector is the very last row.\n",
    "    dataY.append(dataset[i + look_back - 1, -1])\n",
    "  return np.array(dataX), np.array(dataY)\n",
    "\n",
    "train_sample_transformed = create_dataset(train_sample,look_back)\n",
    "train_data = train_sample_transformed[0]\n",
    "train_target = train_sample_transformed[1]\n",
    "\n",
    "test_sample_transformed = create_dataset(test_sample,look_back)\n",
    "test_data = test_sample_transformed[0]\n",
    "test_target = test_sample_transformed[1]\n",
    "\n",
    "# reshape sems to add another list around every observation\n",
    "train_data = train_data.reshape(train_data.shape[0], look_back, train_data.shape[2])\n",
    "train_target = train_target.reshape(train_target.shape[0], 1)\n",
    "\n",
    "test_data = train_data.reshape(test_data.shape[0], look_back, test_data.shape[2])\n",
    "test_target = test_target.reshape(test_target.shape[0], 1)\n"
   ]
  },
  {
   "cell_type": "code",
   "execution_count": 184,
   "metadata": {},
   "outputs": [
    {
     "data": {
      "text/plain": [
       "(471, 1)"
      ]
     },
     "execution_count": 184,
     "metadata": {},
     "output_type": "execute_result"
    }
   ],
   "source": [
    "train_target.shape\n",
    "#test_target"
   ]
  },
  {
   "cell_type": "code",
   "execution_count": 102,
   "metadata": {},
   "outputs": [
    {
     "data": {
      "text/plain": [
       "'\\ndataset = eurusd.iloc[:100,:].values\\ni = 0\\nlook_back = 5\\ndataX, dataY = [], []\\na = dataset[i:(i+look_back), :]\\n#dataX.append(a)\\ndataY.append(dataset[i + look_back - 1, -1])\\ndataY\\n'"
      ]
     },
     "execution_count": 102,
     "metadata": {},
     "output_type": "execute_result"
    }
   ],
   "source": [
    "#rough work\n",
    "\"\"\"\n",
    "dataset = eurusd.iloc[:100,:].values\n",
    "i = 0\n",
    "look_back = 5\n",
    "dataX, dataY = [], []\n",
    "a = dataset[i:(i+look_back), :]\n",
    "#dataX.append(a)\n",
    "dataY.append(dataset[i + look_back - 1, -1])\n",
    "dataY\n",
    "\"\"\""
   ]
  },
  {
   "cell_type": "code",
   "execution_count": 72,
   "metadata": {},
   "outputs": [
    {
     "ename": "NameError",
     "evalue": "name 'dataY' is not defined",
     "traceback": [
      "\u001b[0;31m---------------------------------------------------------------------------\u001b[0m",
      "\u001b[0;31mNameError\u001b[0m                                 Traceback (most recent call last)",
      "\u001b[0;32m<ipython-input-72-910af913705c>\u001b[0m in \u001b[0;36m<module>\u001b[0;34m()\u001b[0m\n\u001b[1;32m      1\u001b[0m \u001b[0;31m#sample_data = sample_data.reshape(sample_data.shape[0], sample_data.shape[1], sample_data.shape[3])\u001b[0m\u001b[0;34m\u001b[0m\u001b[0;34m\u001b[0m\u001b[0;34m\u001b[0m\u001b[0m\n\u001b[1;32m      2\u001b[0m \u001b[0;31m#sample_data[0]\u001b[0m\u001b[0;34m\u001b[0m\u001b[0;34m\u001b[0m\u001b[0;34m\u001b[0m\u001b[0m\n\u001b[0;32m----> 3\u001b[0;31m \u001b[0mdataY\u001b[0m\u001b[0;34m\u001b[0m\u001b[0;34m\u001b[0m\u001b[0m\n\u001b[0m",
      "\u001b[0;31mNameError\u001b[0m: name 'dataY' is not defined"
     ],
     "output_type": "error"
    }
   ],
   "source": [
    "#sample_data = sample_data.reshape(sample_data.shape[0], sample_data.shape[1], sample_data.shape[3])\n",
    "#sample_data[0]"
   ]
  },
  {
   "cell_type": "code",
   "execution_count": 185,
   "metadata": {},
   "outputs": [
    {
     "name": "stdout",
     "output_type": "stream",
     "text": [
      "_________________________________________________________________\nLayer (type)                 Output Shape              Param #   \n=================================================================\nlstm_23 (LSTM)               (None, 30, 1)             152       \n_________________________________________________________________\nlstm_24 (LSTM)               (None, 1)                 12        \n=================================================================\nTotal params: 164\nTrainable params: 164\nNon-trainable params: 0\n_________________________________________________________________\n"
     ]
    }
   ],
   "source": [
    "# this code sets up the LSTM model.\n",
    "'''\n",
    "Original\n",
    "model = Sequential()\n",
    "model.add(LSTM((1),batch_input_shape = (None,5,1), return_sequences = True))\n",
    "model.add(LSTM((1), return_sequences = False))\n",
    "model.compile(loss = \"mean_absolute_error\", optimizer=\"adam\", metrics = ['accuracy'])\n",
    "model.summary()\n",
    "'''\n",
    "# need to try understand the input shapes and what is required of it.\n",
    "# look at tutorials where they use this data\n",
    "# Friday:GOAL have the LSTM working with your input (and variable data set)\n",
    "# BONUS GOAL: simulate trendy and mean reverty data.\n",
    "# batch_input_shape (no_obversations,timelookback, features)\n",
    "no_features = train_data.shape[2]\n",
    "model = Sequential()\n",
    "model.add(LSTM(1,batch_input_shape = (None,look_back,no_features), return_sequences = True))\n",
    "model.add(LSTM(1, return_sequences = False))\n",
    "model.compile(loss = \"mean_absolute_error\", optimizer=\"adam\", metrics = ['accuracy'])\n",
    "model.summary()"
   ]
  },
  {
   "cell_type": "code",
   "execution_count": 186,
   "metadata": {
    "collapsed": true
   },
   "outputs": [],
   "source": [
    "# model training\n",
    "'''\n",
    "history = model.fit(x_train,y_train, epochs=100,validation_data=(x_test,y_test))\n",
    "results = model.predict(x_test)\n",
    "'''\n",
    "\n",
    "history = model.fit(train_data,train_target, epochs=300,validation_data=(test_data,test_target), verbose=0 )"
   ]
  },
  {
   "cell_type": "code",
   "execution_count": 190,
   "metadata": {},
   "outputs": [
    {
     "data": {
      "image/png": "[encoded data removed]",
      "text/plain": [
       "<Figure size 864x576 with 2 Axes>"
      ]
     },
     "metadata": {},
     "output_type": "display_data"
    }
   ],
   "source": [
    "# plot results\n",
    "import matplotlib.pyplot as plt\n",
    "results = model.predict(test_data)\n",
    "fig , ax = plt.subplots(2,1,figsize=(12,8))\n",
    "ax[0].scatter(range(len(results)), results, c = \"r\")\n",
    "ax[0].scatter(range(len(test_target)), test_target, c = \"g\")\n",
    "# lets see the history of the error update.\n",
    "ax[1].plot(history.history['loss'])\n",
    "plt.show()"
   ]
  },
  {
   "cell_type": "code",
   "execution_count": 191,
   "metadata": {},
   "outputs": [
    {
     "name": "stdout",
     "output_type": "stream",
     "text": [
      "0.5605095541401274\n           Predicted Buy  Predicted Sell\nTrue Buy             253              33\nTrue Sell            174              11\n"
     ]
    }
   ],
   "source": [
    "from sklearn.metrics import accuracy_score\n",
    "from sklearn.metrics import confusion_matrix\n",
    "\n",
    "predicted = [np.sign(i) for i in results]\n",
    "true_class = [np.sign(i) for i in test_target]\n",
    "print(accuracy_score(true_class, predicted))\n",
    "\n",
    "print(pd.DataFrame(\n",
    "    confusion_matrix(true_class, predicted),\n",
    "    columns=['Predicted Buy','Predicted Sell'],\n",
    "    index=['True Buy', 'True Sell']\n",
    "))"
   ]
  }
 ],
 "metadata": {
  "kernelspec": {
   "display_name": "Python 2",
   "language": "python",
   "name": "python2"
  },
  "language_info": {
   "codemirror_mode": {
    "name": "ipython",
    "version": 2
   },
   "file_extension": ".py",
   "mimetype": "text/x-python",
   "name": "python",
   "nbconvert_exporter": "python",
   "pygments_lexer": "ipython2",
   "version": "2.7.6"
  }
 },
 "nbformat": 4,
 "nbformat_minor": 0
}
