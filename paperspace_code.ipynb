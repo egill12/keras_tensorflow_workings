{
 "cells": [
  {
   "cell_type": "code",
   "execution_count": null,
   "metadata": {
    "collapsed": true
   },
   "outputs": [],
   "source": [
    "pip install keras"
   ]
  },
  {
   "cell_type": "code",
   "execution_count": null,
   "metadata": {},
   "outputs": [],
   "source": [
    "pip install tensorflow"
   ]
  },
  {
   "cell_type": "code",
   "execution_count": null,
   "metadata": {
    "collapsed": true
   },
   "outputs": [],
   "source": [
    "# This file is a simple implementation of the \n",
    "from keras.models import Sequential\n",
    "from keras.layers import LSTM\n",
    "from keras.layers import Dense\n",
    "import pandas as pd\n",
    "import numpy as np\n",
    "from sklearn.model_selection import train_test_split\n",
    "model = Sequential()\n",
    "data_file = pd.read_csv(r\"/storage/eurusd_train_normed.csv\")\n",
    "eurusd_test = pd.read_csv(r\"/storage/eurusd_test_normed.csv\")\n",
    "data_file = eurusd_train.replace(np.nan, 0)\n",
    "eurusd_test = eurusd_test.replace(np.nan, 0)\n",
    "\n",
    "########################### Set Model Paramaters #############################\n",
    "# this looks back over a set period as the memory for the LSTM\n",
    "look_back = 60\n",
    "features_to_use = [\"spot_v_HF\", \"spot_v_MF\", \"spot_v_LF\", \"HF_ema_diff\",\n",
    "                   \"MF_ema_diff\",\"LF_ema_diff\", \"LDN\", \"NY\", \"Asia\", \"target\"]\n",
    "data_size = 475\n",
    "# the length of our prediction\n",
    "trade_horizon = 24\n",
    "# create data_set\n",
    "train , test= create_train_test_file(data_file, data_size, test_split, model_features):\n",
    "train_sample = train.values\n",
    "test_sample = test.values\n",
    " # Parse the values into the LSTM format\n",
    "train_data , train_target = create_dataset(train_sample,False, look_back)\n",
    "test_data, test_target, target_dates = create_dataset(test_sample, True, look_back)\n",
    "\n",
    "# reshape seems to add another list around every observation\n",
    "train_data = train_data.reshape(train_data.shape[0], look_back, train_data.shape[2])\n",
    "train_target = train_target.reshape(train_target.shape[0], 1)\n",
    "test_data = test_data.reshape(test_data.shape[0], look_back, test_data.shape[2])\n",
    "test_target = test_target.reshape(test_target.shape[0], 1)\n",
    "# Build up the model\n",
    "BATCH_SIZE = 300\n",
    "no_features = train_data.shape[2]\n",
    "model = Sequential()\n",
    "model.add(LSTM(4,batch_input_shape = (None,look_back,no_features), return_sequences = True))\n",
    "model.add(LSTM(1, return_sequences = False, activation=\"softmax\"))\n",
    "#model.add(Dense(2, activation= \"softmax\"))\n",
    "model.compile(loss = \"mean_absolute_error\", optimizer=\"adam\", metrics = ['accuracy'])\n",
    "model.summary()\n",
    "EPOCH = 1000\n",
    "# train the model\n",
    "# verbose = 1 gives the output of the training.\n",
    "lstm_engine = model.fit(train_data,train_target,epochs = EPOCH,validation_data=(test_data,test_target), verbose=0)\n",
    "# run training on the test data\n",
    "results = model.predict(test_data)\n",
    "# The % threshold needed to trigger a signal either way\n",
    "predicted = [signal(i, 0.55) for i in results]\n",
    "acc_score = get_accuracy(predicted, test_target)\n",
    "predictions = pd.DataFrame({\"Date\" : target_dates,\"Predictions\": predicted})\n",
    "test_original = pd.merge(test,predictions,how=\"left\", on=\"Date\").fillna(0)\n",
    "# calculate the returns of the signal\n",
    "test_original[\"scaled_signal\"] = test_original['Predictions'].shift(2).rolling(trade_horizon).sum()/trade_horizon\n",
    "# no shift needed as we have already done that in previous step\n",
    "test_original['strat_returns'] = test_original['logret']*test_original['scaled_signal']\n",
    "test_original['strat_returns_sum'] = test_original['strat_returns'].cumsum()\n",
    "strat_return = test_original['strat_returns'].sum()\n",
    "information_ratio = (test_original['strat_returns'].mean()*260)/(test_original['strat_returns'].sd()*np.sqrt(260))\n"
   ]
  },
  {
   "cell_type": "code",
   "execution_count": null,
   "metadata": {},
   "outputs": [],
   "source": []
  },
  {
   "cell_type": "code",
   "execution_count": null,
   "metadata": {},
   "outputs": [],
   "source": [
    ""
   ]
  },
  {
   "cell_type": "code",
   "execution_count": null,
   "metadata": {},
   "outputs": [],
   "source": [
    "# mergeing signals to the df\n",
    "predictions = pd.DataFrame({\"Date\" : target_dates,\"Predictions\": predicted})\n",
    "test_original = pd.merge(test_original,predictions,how=\"left\", on=\"Date\").fillna(0)\n",
    "test_original.columns"
   ]
  },
  {
   "cell_type": "code",
   "execution_count": null,
   "metadata": {},
   "outputs": [],
   "source": [
    "trade_horizon = 24\n",
    "test_original[\"scaled_signal\"] = test_original['Predictions'].shift(2).rolling(trade_horizon).sum()/trade_horizon\n",
    "# no shift needed as we have already done that inpervious step\n",
    "test_original['strat_returns'] = test_original['logret']*test_original['scaled_signal']\n",
    "test_original['strat_returns_sum'] = test_original['strat_returns'].cumsum()"
   ]
  },
  {
   "cell_type": "code",
   "execution_count": null,
   "metadata": {},
   "outputs": [],
   "source": [
    "ax1 = plt.plot()\n",
    "s1 = test_original['CCY']\n",
    "plt.plot(s1,'b')\n",
    "plt.ylabel('Ret',color='b')\n",
    "ax2 = plt.gca().twinx()\n",
    "s2 = test_original['strat_returns_sum'].loc[test_original['scaled_signal'] <0]\n",
    "ax2.plot(s2, 'r*')\n",
    "plt.ylabel('sin', color='r')\n",
    "s3 = test_original['strat_returns_sum'].loc[test_original['scaled_signal'] >0]\n",
    "ax2.plot(s3, 'g*')\n",
    "plt.show()\n",
    "test_original.to_csv(r\"/storage/signal_prediction_test.csv\",index = False)"
   ]
  }
 ],
 "metadata": {
  "kernelspec": {
   "display_name": "Python 2",
   "language": "python",
   "name": "python2"
  },
  "language_info": {
   "codemirror_mode": {
    "name": "ipython",
    "version": 2
   },
   "file_extension": ".py",
   "mimetype": "text/x-python",
   "name": "python",
   "nbconvert_exporter": "python",
   "pygments_lexer": "ipython2",
   "version": "2.7.6"
  }
 },
 "nbformat": 4,
 "nbformat_minor": 0
}
